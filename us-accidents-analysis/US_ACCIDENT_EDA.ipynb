{
 "cells": [
  {
   "cell_type": "markdown",
   "id": "903234ff",
   "metadata": {},
   "source": [
    "# EDA and Visualization \n",
    "\n",
    "Source of data set --> Kaggle link:https://www.kaggle.com/datasets/sobhanmoosavi/us-accidents\n",
    "\n",
    "Data set -->This is a countrywide car accident dataset, which covers 49 states of the USA. \n",
    "Information. The accident data are collected from February 2016 to December 2021.\n",
    "\n",
    "Currently, there are about 1.5 million accident records in this dataset."
   ]
  },
  {
   "cell_type": "markdown",
   "id": "140589a9",
   "metadata": {},
   "source": [
    "# Dataset abbrevations:\n",
    "\n",
    "\n",
    "1-ID - This is a unique identifier of the accident record.\n",
    "\n",
    "2-Severity - Shows the severity of the accident, a number between 1 and 4, where 1 indicates the least impact on traffic (i.e., short delay as a result of the accident) and 4 indicates a significant impact on traffic (i.e., long delay).\n",
    "\n",
    "3-Start_Time - Shows start time of the accident in local time zone.\n",
    "\n",
    "4-End_Time - Shows end time of the accident in local time zone. End time here refers to when the impact of accident on traffic flow\n",
    "\n",
    "5-Start_Lat - Shows latitude in GPS coordinate of the start point.\n",
    "\n",
    "6-Start_Lng - Shows longitude in GPS coordinate of the start point.\n",
    "\n",
    "7-End_Lat - Shows latitude in GPS coordinate of the end point.\n",
    "\n",
    "8-End_Lng - Shows longitude in GPS coordinate of the end point.\n",
    "\n",
    "9-Distance(mi) - The length of the road extent affected by the accident.\n",
    "\n",
    "10-Description - Shows natural language description of the accident.\n",
    "\n",
    "11-Number - Shows the street number in address record.\n",
    "\n",
    "12-Street - Shows the street name in address record.\n",
    "\n",
    "13-Side - Shows the relative side of the street (Right/Left) in address record.\n",
    "\n",
    "14-City - Shows the city in address record.\n",
    "\n",
    "15-County - Shows the county in address record.\n",
    "\n",
    "16-State - Shows the state in address record.\n",
    "\n",
    "17-Zipcode - Shows the zipcode in address record.\n",
    "\n",
    "18-Country - Shows the country in address record.\n",
    "\n",
    "19-Timezone - Shows timezone based on the location of the accident (eastern, central, etc.).\n",
    "\n",
    "20-Airport_Code - Denotes an airport-based weather station which is the closest one to location of the accident.\n",
    "\n",
    "21-Weather_Timestamp - Shows the time-stamp of weather observation record (in local time).\n",
    "\n",
    "22-Temperature(F) - Shows the temperature (in Fahrenheit).\n",
    "\n",
    "23-Wind_Chill(F) - Shows the wind chill (in Fahrenheit).\n",
    "\n",
    "24-Humidity(%) - Shows the humidity (in percentage).\n",
    "\n",
    "25-Pressure(in) - Shows the air pressure (in inches).\n",
    "\n",
    "26-Visibility(mi) - Shows visibility (in miles).\n",
    "\n",
    "27-Wind_Direction - Shows wind direction.\n",
    "\n",
    "28-Wind_Speed(mph) - Shows wind speed (in miles per hour).\n",
    "\n",
    "29-Precipitation(in) - Shows precipitation amount in inches, if there is any.\n",
    "\n",
    "30-Weather_Condition - Shows the weather condition (rain, snow, thunderstorm, fog, etc.)\n",
    "\n",
    "31-Amenity - A POI annotation which indicates presence of amenity in a nearby location.\n",
    "\n",
    "32-Bump - A POI annotation which indicates presence of speed bump or hump in a nearby location.\n",
    "\n",
    "33-Crossing - A POI annotation which indicates presence of crossing in a nearby location.\n",
    "\n",
    "34-Give_Way - A POI annotation which indicates presence of give_way in a nearby location.\n",
    "\n",
    "35-Junction - A POI annotation which indicates presence of junction in a nearby location.\n",
    "\n",
    "36-No_Exit - A POI annotation which indicates presence of junction in a nearby location.\n",
    "\n",
    "37-Railway - A POI annotation which indicates presence of railway in a nearby location.\n",
    "\n",
    "38-Roundabout - A POI annotation which indicates presence of roundabout in a nearby location.\n",
    "\n",
    "39-Station - A POI annotation which indicates presence of station in a nearby location.\n",
    "\n",
    "40-Stop - A POI annotation which indicates presence of stop in a nearby location.\n",
    "\n",
    "41-Traffic_Calming - A POI annotation which indicates presence of traffic_calming in a nearby location.\n",
    "\n",
    "42-Traffic_Signal - A POI annotation which indicates presence of traffic_signal in a nearby location.\n",
    "\n",
    "43-Turning_Loop - A POI annotation which indicates presence of turning_loop in a nearby location.\n",
    "\n",
    "44-Sunrise_Sunset - Shows the period of day (i.e. day or night) based on sunrise/sunset.\n",
    "\n",
    "45-Civil_Twilight - Shows the period of day (i.e. day or night) based on civil twilight.\n",
    "\n",
    "46-Nautical_Twilight - Shows the period of day (i.e. day or night) based on nautical twilight.\n",
    "\n",
    "47-Astronomical_Twilight - Shows the period of day (i.e. day or night) based on astronomical twilight."
   ]
  },
  {
   "cell_type": "markdown",
   "id": "09d267ec",
   "metadata": {},
   "source": [
    "# importing libraries "
   ]
  },
  {
   "cell_type": "code",
   "execution_count": 1,
   "id": "b1351b8e",
   "metadata": {},
   "outputs": [],
   "source": [
    "import numpy as np\n",
    "import pandas as pd\n",
    "import matplotlib.pyplot as plt\n",
    "import seaborn as sns"
   ]
  },
  {
   "cell_type": "markdown",
   "id": "09e16143",
   "metadata": {},
   "source": [
    "# loading data set"
   ]
  },
  {
   "cell_type": "code",
   "execution_count": 2,
   "id": "64e33da5",
   "metadata": {},
   "outputs": [],
   "source": [
    "df=pd.read_csv('US_Accidents_Dec21_updated.csv')"
   ]
  },
  {
   "cell_type": "code",
   "execution_count": 3,
   "id": "2e1b57db",
   "metadata": {},
   "outputs": [
    {
     "data": {
      "text/html": [
       "<div>\n",
       "<style scoped>\n",
       "    .dataframe tbody tr th:only-of-type {\n",
       "        vertical-align: middle;\n",
       "    }\n",
       "\n",
       "    .dataframe tbody tr th {\n",
       "        vertical-align: top;\n",
       "    }\n",
       "\n",
       "    .dataframe thead th {\n",
       "        text-align: right;\n",
       "    }\n",
       "</style>\n",
       "<table border=\"1\" class=\"dataframe\">\n",
       "  <thead>\n",
       "    <tr style=\"text-align: right;\">\n",
       "      <th></th>\n",
       "      <th>ID</th>\n",
       "      <th>Severity</th>\n",
       "      <th>Start_Time</th>\n",
       "      <th>End_Time</th>\n",
       "      <th>Start_Lat</th>\n",
       "      <th>Start_Lng</th>\n",
       "      <th>End_Lat</th>\n",
       "      <th>End_Lng</th>\n",
       "      <th>Distance(mi)</th>\n",
       "      <th>Description</th>\n",
       "      <th>...</th>\n",
       "      <th>Roundabout</th>\n",
       "      <th>Station</th>\n",
       "      <th>Stop</th>\n",
       "      <th>Traffic_Calming</th>\n",
       "      <th>Traffic_Signal</th>\n",
       "      <th>Turning_Loop</th>\n",
       "      <th>Sunrise_Sunset</th>\n",
       "      <th>Civil_Twilight</th>\n",
       "      <th>Nautical_Twilight</th>\n",
       "      <th>Astronomical_Twilight</th>\n",
       "    </tr>\n",
       "  </thead>\n",
       "  <tbody>\n",
       "    <tr>\n",
       "      <th>0</th>\n",
       "      <td>A-1</td>\n",
       "      <td>3</td>\n",
       "      <td>2016-02-08 00:37:08</td>\n",
       "      <td>2016-02-08 06:37:08</td>\n",
       "      <td>40.108910</td>\n",
       "      <td>-83.092860</td>\n",
       "      <td>40.112060</td>\n",
       "      <td>-83.031870</td>\n",
       "      <td>3.230</td>\n",
       "      <td>Between Sawmill Rd/Exit 20 and OH-315/Olentang...</td>\n",
       "      <td>...</td>\n",
       "      <td>False</td>\n",
       "      <td>False</td>\n",
       "      <td>False</td>\n",
       "      <td>False</td>\n",
       "      <td>False</td>\n",
       "      <td>False</td>\n",
       "      <td>Night</td>\n",
       "      <td>Night</td>\n",
       "      <td>Night</td>\n",
       "      <td>Night</td>\n",
       "    </tr>\n",
       "    <tr>\n",
       "      <th>1</th>\n",
       "      <td>A-2</td>\n",
       "      <td>2</td>\n",
       "      <td>2016-02-08 05:56:20</td>\n",
       "      <td>2016-02-08 11:56:20</td>\n",
       "      <td>39.865420</td>\n",
       "      <td>-84.062800</td>\n",
       "      <td>39.865010</td>\n",
       "      <td>-84.048730</td>\n",
       "      <td>0.747</td>\n",
       "      <td>At OH-4/OH-235/Exit 41 - Accident.</td>\n",
       "      <td>...</td>\n",
       "      <td>False</td>\n",
       "      <td>False</td>\n",
       "      <td>False</td>\n",
       "      <td>False</td>\n",
       "      <td>False</td>\n",
       "      <td>False</td>\n",
       "      <td>Night</td>\n",
       "      <td>Night</td>\n",
       "      <td>Night</td>\n",
       "      <td>Night</td>\n",
       "    </tr>\n",
       "    <tr>\n",
       "      <th>2</th>\n",
       "      <td>A-3</td>\n",
       "      <td>2</td>\n",
       "      <td>2016-02-08 06:15:39</td>\n",
       "      <td>2016-02-08 12:15:39</td>\n",
       "      <td>39.102660</td>\n",
       "      <td>-84.524680</td>\n",
       "      <td>39.102090</td>\n",
       "      <td>-84.523960</td>\n",
       "      <td>0.055</td>\n",
       "      <td>At I-71/US-50/Exit 1 - Accident.</td>\n",
       "      <td>...</td>\n",
       "      <td>False</td>\n",
       "      <td>False</td>\n",
       "      <td>False</td>\n",
       "      <td>False</td>\n",
       "      <td>False</td>\n",
       "      <td>False</td>\n",
       "      <td>Night</td>\n",
       "      <td>Night</td>\n",
       "      <td>Night</td>\n",
       "      <td>Day</td>\n",
       "    </tr>\n",
       "    <tr>\n",
       "      <th>3</th>\n",
       "      <td>A-4</td>\n",
       "      <td>2</td>\n",
       "      <td>2016-02-08 06:51:45</td>\n",
       "      <td>2016-02-08 12:51:45</td>\n",
       "      <td>41.062130</td>\n",
       "      <td>-81.537840</td>\n",
       "      <td>41.062170</td>\n",
       "      <td>-81.535470</td>\n",
       "      <td>0.123</td>\n",
       "      <td>At Dart Ave/Exit 21 - Accident.</td>\n",
       "      <td>...</td>\n",
       "      <td>False</td>\n",
       "      <td>False</td>\n",
       "      <td>False</td>\n",
       "      <td>False</td>\n",
       "      <td>False</td>\n",
       "      <td>False</td>\n",
       "      <td>Night</td>\n",
       "      <td>Night</td>\n",
       "      <td>Day</td>\n",
       "      <td>Day</td>\n",
       "    </tr>\n",
       "    <tr>\n",
       "      <th>4</th>\n",
       "      <td>A-5</td>\n",
       "      <td>3</td>\n",
       "      <td>2016-02-08 07:53:43</td>\n",
       "      <td>2016-02-08 13:53:43</td>\n",
       "      <td>39.172393</td>\n",
       "      <td>-84.492792</td>\n",
       "      <td>39.170476</td>\n",
       "      <td>-84.501798</td>\n",
       "      <td>0.500</td>\n",
       "      <td>At Mitchell Ave/Exit 6 - Accident.</td>\n",
       "      <td>...</td>\n",
       "      <td>False</td>\n",
       "      <td>False</td>\n",
       "      <td>False</td>\n",
       "      <td>False</td>\n",
       "      <td>False</td>\n",
       "      <td>False</td>\n",
       "      <td>Day</td>\n",
       "      <td>Day</td>\n",
       "      <td>Day</td>\n",
       "      <td>Day</td>\n",
       "    </tr>\n",
       "  </tbody>\n",
       "</table>\n",
       "<p>5 rows × 47 columns</p>\n",
       "</div>"
      ],
      "text/plain": [
       "    ID  Severity           Start_Time             End_Time  Start_Lat  \\\n",
       "0  A-1         3  2016-02-08 00:37:08  2016-02-08 06:37:08  40.108910   \n",
       "1  A-2         2  2016-02-08 05:56:20  2016-02-08 11:56:20  39.865420   \n",
       "2  A-3         2  2016-02-08 06:15:39  2016-02-08 12:15:39  39.102660   \n",
       "3  A-4         2  2016-02-08 06:51:45  2016-02-08 12:51:45  41.062130   \n",
       "4  A-5         3  2016-02-08 07:53:43  2016-02-08 13:53:43  39.172393   \n",
       "\n",
       "   Start_Lng    End_Lat    End_Lng  Distance(mi)  \\\n",
       "0 -83.092860  40.112060 -83.031870         3.230   \n",
       "1 -84.062800  39.865010 -84.048730         0.747   \n",
       "2 -84.524680  39.102090 -84.523960         0.055   \n",
       "3 -81.537840  41.062170 -81.535470         0.123   \n",
       "4 -84.492792  39.170476 -84.501798         0.500   \n",
       "\n",
       "                                         Description  ...  Roundabout Station  \\\n",
       "0  Between Sawmill Rd/Exit 20 and OH-315/Olentang...  ...       False   False   \n",
       "1                 At OH-4/OH-235/Exit 41 - Accident.  ...       False   False   \n",
       "2                   At I-71/US-50/Exit 1 - Accident.  ...       False   False   \n",
       "3                    At Dart Ave/Exit 21 - Accident.  ...       False   False   \n",
       "4                 At Mitchell Ave/Exit 6 - Accident.  ...       False   False   \n",
       "\n",
       "    Stop Traffic_Calming Traffic_Signal Turning_Loop Sunrise_Sunset  \\\n",
       "0  False           False          False        False          Night   \n",
       "1  False           False          False        False          Night   \n",
       "2  False           False          False        False          Night   \n",
       "3  False           False          False        False          Night   \n",
       "4  False           False          False        False            Day   \n",
       "\n",
       "  Civil_Twilight Nautical_Twilight Astronomical_Twilight  \n",
       "0          Night             Night                 Night  \n",
       "1          Night             Night                 Night  \n",
       "2          Night             Night                   Day  \n",
       "3          Night               Day                   Day  \n",
       "4            Day               Day                   Day  \n",
       "\n",
       "[5 rows x 47 columns]"
      ]
     },
     "execution_count": 3,
     "metadata": {},
     "output_type": "execute_result"
    }
   ],
   "source": [
    "df.head()"
   ]
  },
  {
   "cell_type": "code",
   "execution_count": 4,
   "id": "5e016242",
   "metadata": {},
   "outputs": [
    {
     "data": {
      "text/html": [
       "<div>\n",
       "<style scoped>\n",
       "    .dataframe tbody tr th:only-of-type {\n",
       "        vertical-align: middle;\n",
       "    }\n",
       "\n",
       "    .dataframe tbody tr th {\n",
       "        vertical-align: top;\n",
       "    }\n",
       "\n",
       "    .dataframe thead th {\n",
       "        text-align: right;\n",
       "    }\n",
       "</style>\n",
       "<table border=\"1\" class=\"dataframe\">\n",
       "  <thead>\n",
       "    <tr style=\"text-align: right;\">\n",
       "      <th></th>\n",
       "      <th>ID</th>\n",
       "      <th>Severity</th>\n",
       "      <th>Start_Time</th>\n",
       "      <th>End_Time</th>\n",
       "      <th>Start_Lat</th>\n",
       "      <th>Start_Lng</th>\n",
       "      <th>End_Lat</th>\n",
       "      <th>End_Lng</th>\n",
       "      <th>Distance(mi)</th>\n",
       "      <th>Description</th>\n",
       "      <th>...</th>\n",
       "      <th>Roundabout</th>\n",
       "      <th>Station</th>\n",
       "      <th>Stop</th>\n",
       "      <th>Traffic_Calming</th>\n",
       "      <th>Traffic_Signal</th>\n",
       "      <th>Turning_Loop</th>\n",
       "      <th>Sunrise_Sunset</th>\n",
       "      <th>Civil_Twilight</th>\n",
       "      <th>Nautical_Twilight</th>\n",
       "      <th>Astronomical_Twilight</th>\n",
       "    </tr>\n",
       "  </thead>\n",
       "  <tbody>\n",
       "    <tr>\n",
       "      <th>2845337</th>\n",
       "      <td>A-2845338</td>\n",
       "      <td>2</td>\n",
       "      <td>2019-08-23 18:03:25</td>\n",
       "      <td>2019-08-23 18:32:01</td>\n",
       "      <td>34.00248</td>\n",
       "      <td>-117.37936</td>\n",
       "      <td>33.99888</td>\n",
       "      <td>-117.37094</td>\n",
       "      <td>0.543</td>\n",
       "      <td>At Market St - Accident.</td>\n",
       "      <td>...</td>\n",
       "      <td>False</td>\n",
       "      <td>False</td>\n",
       "      <td>False</td>\n",
       "      <td>False</td>\n",
       "      <td>False</td>\n",
       "      <td>False</td>\n",
       "      <td>Day</td>\n",
       "      <td>Day</td>\n",
       "      <td>Day</td>\n",
       "      <td>Day</td>\n",
       "    </tr>\n",
       "    <tr>\n",
       "      <th>2845338</th>\n",
       "      <td>A-2845339</td>\n",
       "      <td>2</td>\n",
       "      <td>2019-08-23 19:11:30</td>\n",
       "      <td>2019-08-23 19:38:23</td>\n",
       "      <td>32.76696</td>\n",
       "      <td>-117.14806</td>\n",
       "      <td>32.76555</td>\n",
       "      <td>-117.15363</td>\n",
       "      <td>0.338</td>\n",
       "      <td>At Camino Del Rio/Mission Center Rd - Accident.</td>\n",
       "      <td>...</td>\n",
       "      <td>False</td>\n",
       "      <td>False</td>\n",
       "      <td>False</td>\n",
       "      <td>False</td>\n",
       "      <td>False</td>\n",
       "      <td>False</td>\n",
       "      <td>Day</td>\n",
       "      <td>Day</td>\n",
       "      <td>Day</td>\n",
       "      <td>Day</td>\n",
       "    </tr>\n",
       "    <tr>\n",
       "      <th>2845339</th>\n",
       "      <td>A-2845340</td>\n",
       "      <td>2</td>\n",
       "      <td>2019-08-23 19:00:21</td>\n",
       "      <td>2019-08-23 19:28:49</td>\n",
       "      <td>33.77545</td>\n",
       "      <td>-117.84779</td>\n",
       "      <td>33.77740</td>\n",
       "      <td>-117.85727</td>\n",
       "      <td>0.561</td>\n",
       "      <td>At Glassell St/Grand Ave - Accident. in the ri...</td>\n",
       "      <td>...</td>\n",
       "      <td>False</td>\n",
       "      <td>False</td>\n",
       "      <td>False</td>\n",
       "      <td>False</td>\n",
       "      <td>False</td>\n",
       "      <td>False</td>\n",
       "      <td>Day</td>\n",
       "      <td>Day</td>\n",
       "      <td>Day</td>\n",
       "      <td>Day</td>\n",
       "    </tr>\n",
       "    <tr>\n",
       "      <th>2845340</th>\n",
       "      <td>A-2845341</td>\n",
       "      <td>2</td>\n",
       "      <td>2019-08-23 19:00:21</td>\n",
       "      <td>2019-08-23 19:29:42</td>\n",
       "      <td>33.99246</td>\n",
       "      <td>-118.40302</td>\n",
       "      <td>33.98311</td>\n",
       "      <td>-118.39565</td>\n",
       "      <td>0.772</td>\n",
       "      <td>At CA-90/Marina Fwy/Jefferson Blvd - Accident.</td>\n",
       "      <td>...</td>\n",
       "      <td>False</td>\n",
       "      <td>False</td>\n",
       "      <td>False</td>\n",
       "      <td>False</td>\n",
       "      <td>False</td>\n",
       "      <td>False</td>\n",
       "      <td>Day</td>\n",
       "      <td>Day</td>\n",
       "      <td>Day</td>\n",
       "      <td>Day</td>\n",
       "    </tr>\n",
       "    <tr>\n",
       "      <th>2845341</th>\n",
       "      <td>A-2845342</td>\n",
       "      <td>2</td>\n",
       "      <td>2019-08-23 18:52:06</td>\n",
       "      <td>2019-08-23 19:21:31</td>\n",
       "      <td>34.13393</td>\n",
       "      <td>-117.23092</td>\n",
       "      <td>34.13736</td>\n",
       "      <td>-117.23934</td>\n",
       "      <td>0.537</td>\n",
       "      <td>At Highland Ave/Arden Ave - Accident.</td>\n",
       "      <td>...</td>\n",
       "      <td>False</td>\n",
       "      <td>False</td>\n",
       "      <td>False</td>\n",
       "      <td>False</td>\n",
       "      <td>False</td>\n",
       "      <td>False</td>\n",
       "      <td>Day</td>\n",
       "      <td>Day</td>\n",
       "      <td>Day</td>\n",
       "      <td>Day</td>\n",
       "    </tr>\n",
       "  </tbody>\n",
       "</table>\n",
       "<p>5 rows × 47 columns</p>\n",
       "</div>"
      ],
      "text/plain": [
       "                ID  Severity           Start_Time             End_Time  \\\n",
       "2845337  A-2845338         2  2019-08-23 18:03:25  2019-08-23 18:32:01   \n",
       "2845338  A-2845339         2  2019-08-23 19:11:30  2019-08-23 19:38:23   \n",
       "2845339  A-2845340         2  2019-08-23 19:00:21  2019-08-23 19:28:49   \n",
       "2845340  A-2845341         2  2019-08-23 19:00:21  2019-08-23 19:29:42   \n",
       "2845341  A-2845342         2  2019-08-23 18:52:06  2019-08-23 19:21:31   \n",
       "\n",
       "         Start_Lat  Start_Lng   End_Lat    End_Lng  Distance(mi)  \\\n",
       "2845337   34.00248 -117.37936  33.99888 -117.37094         0.543   \n",
       "2845338   32.76696 -117.14806  32.76555 -117.15363         0.338   \n",
       "2845339   33.77545 -117.84779  33.77740 -117.85727         0.561   \n",
       "2845340   33.99246 -118.40302  33.98311 -118.39565         0.772   \n",
       "2845341   34.13393 -117.23092  34.13736 -117.23934         0.537   \n",
       "\n",
       "                                               Description  ...  Roundabout  \\\n",
       "2845337                           At Market St - Accident.  ...       False   \n",
       "2845338    At Camino Del Rio/Mission Center Rd - Accident.  ...       False   \n",
       "2845339  At Glassell St/Grand Ave - Accident. in the ri...  ...       False   \n",
       "2845340     At CA-90/Marina Fwy/Jefferson Blvd - Accident.  ...       False   \n",
       "2845341              At Highland Ave/Arden Ave - Accident.  ...       False   \n",
       "\n",
       "        Station   Stop Traffic_Calming Traffic_Signal Turning_Loop  \\\n",
       "2845337   False  False           False          False        False   \n",
       "2845338   False  False           False          False        False   \n",
       "2845339   False  False           False          False        False   \n",
       "2845340   False  False           False          False        False   \n",
       "2845341   False  False           False          False        False   \n",
       "\n",
       "        Sunrise_Sunset Civil_Twilight Nautical_Twilight Astronomical_Twilight  \n",
       "2845337            Day            Day               Day                   Day  \n",
       "2845338            Day            Day               Day                   Day  \n",
       "2845339            Day            Day               Day                   Day  \n",
       "2845340            Day            Day               Day                   Day  \n",
       "2845341            Day            Day               Day                   Day  \n",
       "\n",
       "[5 rows x 47 columns]"
      ]
     },
     "execution_count": 4,
     "metadata": {},
     "output_type": "execute_result"
    }
   ],
   "source": [
    "df.tail()"
   ]
  },
  {
   "cell_type": "code",
   "execution_count": 5,
   "id": "ef88c8c2",
   "metadata": {},
   "outputs": [
    {
     "data": {
      "text/plain": [
       "(2845342, 47)"
      ]
     },
     "execution_count": 5,
     "metadata": {},
     "output_type": "execute_result"
    }
   ],
   "source": [
    "df.shape"
   ]
  },
  {
   "cell_type": "markdown",
   "id": "787250c3",
   "metadata": {},
   "source": [
    "# Data Preparation & Cleaning"
   ]
  },
  {
   "cell_type": "code",
   "execution_count": 6,
   "id": "881bf59c",
   "metadata": {},
   "outputs": [
    {
     "data": {
      "text/plain": [
       "Index(['ID', 'Severity', 'Start_Time', 'End_Time', 'Start_Lat', 'Start_Lng',\n",
       "       'End_Lat', 'End_Lng', 'Distance(mi)', 'Description', 'Number', 'Street',\n",
       "       'Side', 'City', 'County', 'State', 'Zipcode', 'Country', 'Timezone',\n",
       "       'Airport_Code', 'Weather_Timestamp', 'Temperature(F)', 'Wind_Chill(F)',\n",
       "       'Humidity(%)', 'Pressure(in)', 'Visibility(mi)', 'Wind_Direction',\n",
       "       'Wind_Speed(mph)', 'Precipitation(in)', 'Weather_Condition', 'Amenity',\n",
       "       'Bump', 'Crossing', 'Give_Way', 'Junction', 'No_Exit', 'Railway',\n",
       "       'Roundabout', 'Station', 'Stop', 'Traffic_Calming', 'Traffic_Signal',\n",
       "       'Turning_Loop', 'Sunrise_Sunset', 'Civil_Twilight', 'Nautical_Twilight',\n",
       "       'Astronomical_Twilight'],\n",
       "      dtype='object')"
      ]
     },
     "execution_count": 6,
     "metadata": {},
     "output_type": "execute_result"
    }
   ],
   "source": [
    "df.columns"
   ]
  },
  {
   "cell_type": "code",
   "execution_count": 7,
   "id": "1a714455",
   "metadata": {},
   "outputs": [
    {
     "data": {
      "text/plain": [
       "47"
      ]
     },
     "execution_count": 7,
     "metadata": {},
     "output_type": "execute_result"
    }
   ],
   "source": [
    "df.columns.nunique()\n",
    "#there are 47 col in data set"
   ]
  },
  {
   "cell_type": "code",
   "execution_count": 8,
   "id": "82dd9d52",
   "metadata": {},
   "outputs": [
    {
     "name": "stdout",
     "output_type": "stream",
     "text": [
      "<class 'pandas.core.frame.DataFrame'>\n",
      "RangeIndex: 2845342 entries, 0 to 2845341\n",
      "Data columns (total 47 columns):\n",
      " #   Column                 Dtype  \n",
      "---  ------                 -----  \n",
      " 0   ID                     object \n",
      " 1   Severity               int64  \n",
      " 2   Start_Time             object \n",
      " 3   End_Time               object \n",
      " 4   Start_Lat              float64\n",
      " 5   Start_Lng              float64\n",
      " 6   End_Lat                float64\n",
      " 7   End_Lng                float64\n",
      " 8   Distance(mi)           float64\n",
      " 9   Description            object \n",
      " 10  Number                 float64\n",
      " 11  Street                 object \n",
      " 12  Side                   object \n",
      " 13  City                   object \n",
      " 14  County                 object \n",
      " 15  State                  object \n",
      " 16  Zipcode                object \n",
      " 17  Country                object \n",
      " 18  Timezone               object \n",
      " 19  Airport_Code           object \n",
      " 20  Weather_Timestamp      object \n",
      " 21  Temperature(F)         float64\n",
      " 22  Wind_Chill(F)          float64\n",
      " 23  Humidity(%)            float64\n",
      " 24  Pressure(in)           float64\n",
      " 25  Visibility(mi)         float64\n",
      " 26  Wind_Direction         object \n",
      " 27  Wind_Speed(mph)        float64\n",
      " 28  Precipitation(in)      float64\n",
      " 29  Weather_Condition      object \n",
      " 30  Amenity                bool   \n",
      " 31  Bump                   bool   \n",
      " 32  Crossing               bool   \n",
      " 33  Give_Way               bool   \n",
      " 34  Junction               bool   \n",
      " 35  No_Exit                bool   \n",
      " 36  Railway                bool   \n",
      " 37  Roundabout             bool   \n",
      " 38  Station                bool   \n",
      " 39  Stop                   bool   \n",
      " 40  Traffic_Calming        bool   \n",
      " 41  Traffic_Signal         bool   \n",
      " 42  Turning_Loop           bool   \n",
      " 43  Sunrise_Sunset         object \n",
      " 44  Civil_Twilight         object \n",
      " 45  Nautical_Twilight      object \n",
      " 46  Astronomical_Twilight  object \n",
      "dtypes: bool(13), float64(13), int64(1), object(20)\n",
      "memory usage: 773.4+ MB\n"
     ]
    }
   ],
   "source": [
    "df.info()"
   ]
  },
  {
   "cell_type": "code",
   "execution_count": 9,
   "id": "0edd2de6",
   "metadata": {},
   "outputs": [
    {
     "data": {
      "text/html": [
       "<div>\n",
       "<style scoped>\n",
       "    .dataframe tbody tr th:only-of-type {\n",
       "        vertical-align: middle;\n",
       "    }\n",
       "\n",
       "    .dataframe tbody tr th {\n",
       "        vertical-align: top;\n",
       "    }\n",
       "\n",
       "    .dataframe thead th {\n",
       "        text-align: right;\n",
       "    }\n",
       "</style>\n",
       "<table border=\"1\" class=\"dataframe\">\n",
       "  <thead>\n",
       "    <tr style=\"text-align: right;\">\n",
       "      <th></th>\n",
       "      <th>Severity</th>\n",
       "      <th>Start_Lat</th>\n",
       "      <th>Start_Lng</th>\n",
       "      <th>End_Lat</th>\n",
       "      <th>End_Lng</th>\n",
       "      <th>Distance(mi)</th>\n",
       "      <th>Number</th>\n",
       "      <th>Temperature(F)</th>\n",
       "      <th>Wind_Chill(F)</th>\n",
       "      <th>Humidity(%)</th>\n",
       "      <th>Pressure(in)</th>\n",
       "      <th>Visibility(mi)</th>\n",
       "      <th>Wind_Speed(mph)</th>\n",
       "      <th>Precipitation(in)</th>\n",
       "    </tr>\n",
       "  </thead>\n",
       "  <tbody>\n",
       "    <tr>\n",
       "      <th>count</th>\n",
       "      <td>2.845342e+06</td>\n",
       "      <td>2.845342e+06</td>\n",
       "      <td>2.845342e+06</td>\n",
       "      <td>2.845342e+06</td>\n",
       "      <td>2.845342e+06</td>\n",
       "      <td>2.845342e+06</td>\n",
       "      <td>1.101431e+06</td>\n",
       "      <td>2.776068e+06</td>\n",
       "      <td>2.375699e+06</td>\n",
       "      <td>2.772250e+06</td>\n",
       "      <td>2.786142e+06</td>\n",
       "      <td>2.774796e+06</td>\n",
       "      <td>2.687398e+06</td>\n",
       "      <td>2.295884e+06</td>\n",
       "    </tr>\n",
       "    <tr>\n",
       "      <th>mean</th>\n",
       "      <td>2.137572e+00</td>\n",
       "      <td>3.624520e+01</td>\n",
       "      <td>-9.711463e+01</td>\n",
       "      <td>3.624532e+01</td>\n",
       "      <td>-9.711439e+01</td>\n",
       "      <td>7.026779e-01</td>\n",
       "      <td>8.089408e+03</td>\n",
       "      <td>6.179356e+01</td>\n",
       "      <td>5.965823e+01</td>\n",
       "      <td>6.436545e+01</td>\n",
       "      <td>2.947234e+01</td>\n",
       "      <td>9.099391e+00</td>\n",
       "      <td>7.395044e+00</td>\n",
       "      <td>7.016940e-03</td>\n",
       "    </tr>\n",
       "    <tr>\n",
       "      <th>std</th>\n",
       "      <td>4.787216e-01</td>\n",
       "      <td>5.363797e+00</td>\n",
       "      <td>1.831782e+01</td>\n",
       "      <td>5.363873e+00</td>\n",
       "      <td>1.831763e+01</td>\n",
       "      <td>1.560361e+00</td>\n",
       "      <td>1.836009e+04</td>\n",
       "      <td>1.862263e+01</td>\n",
       "      <td>2.116097e+01</td>\n",
       "      <td>2.287457e+01</td>\n",
       "      <td>1.045286e+00</td>\n",
       "      <td>2.717546e+00</td>\n",
       "      <td>5.527454e+00</td>\n",
       "      <td>9.348831e-02</td>\n",
       "    </tr>\n",
       "    <tr>\n",
       "      <th>min</th>\n",
       "      <td>1.000000e+00</td>\n",
       "      <td>2.456603e+01</td>\n",
       "      <td>-1.245481e+02</td>\n",
       "      <td>2.456601e+01</td>\n",
       "      <td>-1.245457e+02</td>\n",
       "      <td>0.000000e+00</td>\n",
       "      <td>0.000000e+00</td>\n",
       "      <td>-8.900000e+01</td>\n",
       "      <td>-8.900000e+01</td>\n",
       "      <td>1.000000e+00</td>\n",
       "      <td>0.000000e+00</td>\n",
       "      <td>0.000000e+00</td>\n",
       "      <td>0.000000e+00</td>\n",
       "      <td>0.000000e+00</td>\n",
       "    </tr>\n",
       "    <tr>\n",
       "      <th>25%</th>\n",
       "      <td>2.000000e+00</td>\n",
       "      <td>3.344517e+01</td>\n",
       "      <td>-1.180331e+02</td>\n",
       "      <td>3.344628e+01</td>\n",
       "      <td>-1.180333e+02</td>\n",
       "      <td>5.200000e-02</td>\n",
       "      <td>1.270000e+03</td>\n",
       "      <td>5.000000e+01</td>\n",
       "      <td>4.600000e+01</td>\n",
       "      <td>4.800000e+01</td>\n",
       "      <td>2.931000e+01</td>\n",
       "      <td>1.000000e+01</td>\n",
       "      <td>3.500000e+00</td>\n",
       "      <td>0.000000e+00</td>\n",
       "    </tr>\n",
       "    <tr>\n",
       "      <th>50%</th>\n",
       "      <td>2.000000e+00</td>\n",
       "      <td>3.609861e+01</td>\n",
       "      <td>-9.241808e+01</td>\n",
       "      <td>3.609799e+01</td>\n",
       "      <td>-9.241772e+01</td>\n",
       "      <td>2.440000e-01</td>\n",
       "      <td>4.007000e+03</td>\n",
       "      <td>6.400000e+01</td>\n",
       "      <td>6.300000e+01</td>\n",
       "      <td>6.700000e+01</td>\n",
       "      <td>2.982000e+01</td>\n",
       "      <td>1.000000e+01</td>\n",
       "      <td>7.000000e+00</td>\n",
       "      <td>0.000000e+00</td>\n",
       "    </tr>\n",
       "    <tr>\n",
       "      <th>75%</th>\n",
       "      <td>2.000000e+00</td>\n",
       "      <td>4.016024e+01</td>\n",
       "      <td>-8.037243e+01</td>\n",
       "      <td>4.016105e+01</td>\n",
       "      <td>-8.037338e+01</td>\n",
       "      <td>7.640000e-01</td>\n",
       "      <td>9.567000e+03</td>\n",
       "      <td>7.600000e+01</td>\n",
       "      <td>7.600000e+01</td>\n",
       "      <td>8.300000e+01</td>\n",
       "      <td>3.001000e+01</td>\n",
       "      <td>1.000000e+01</td>\n",
       "      <td>1.000000e+01</td>\n",
       "      <td>0.000000e+00</td>\n",
       "    </tr>\n",
       "    <tr>\n",
       "      <th>max</th>\n",
       "      <td>4.000000e+00</td>\n",
       "      <td>4.900058e+01</td>\n",
       "      <td>-6.711317e+01</td>\n",
       "      <td>4.907500e+01</td>\n",
       "      <td>-6.710924e+01</td>\n",
       "      <td>1.551860e+02</td>\n",
       "      <td>9.999997e+06</td>\n",
       "      <td>1.960000e+02</td>\n",
       "      <td>1.960000e+02</td>\n",
       "      <td>1.000000e+02</td>\n",
       "      <td>5.890000e+01</td>\n",
       "      <td>1.400000e+02</td>\n",
       "      <td>1.087000e+03</td>\n",
       "      <td>2.400000e+01</td>\n",
       "    </tr>\n",
       "  </tbody>\n",
       "</table>\n",
       "</div>"
      ],
      "text/plain": [
       "           Severity     Start_Lat     Start_Lng       End_Lat       End_Lng  \\\n",
       "count  2.845342e+06  2.845342e+06  2.845342e+06  2.845342e+06  2.845342e+06   \n",
       "mean   2.137572e+00  3.624520e+01 -9.711463e+01  3.624532e+01 -9.711439e+01   \n",
       "std    4.787216e-01  5.363797e+00  1.831782e+01  5.363873e+00  1.831763e+01   \n",
       "min    1.000000e+00  2.456603e+01 -1.245481e+02  2.456601e+01 -1.245457e+02   \n",
       "25%    2.000000e+00  3.344517e+01 -1.180331e+02  3.344628e+01 -1.180333e+02   \n",
       "50%    2.000000e+00  3.609861e+01 -9.241808e+01  3.609799e+01 -9.241772e+01   \n",
       "75%    2.000000e+00  4.016024e+01 -8.037243e+01  4.016105e+01 -8.037338e+01   \n",
       "max    4.000000e+00  4.900058e+01 -6.711317e+01  4.907500e+01 -6.710924e+01   \n",
       "\n",
       "       Distance(mi)        Number  Temperature(F)  Wind_Chill(F)  \\\n",
       "count  2.845342e+06  1.101431e+06    2.776068e+06   2.375699e+06   \n",
       "mean   7.026779e-01  8.089408e+03    6.179356e+01   5.965823e+01   \n",
       "std    1.560361e+00  1.836009e+04    1.862263e+01   2.116097e+01   \n",
       "min    0.000000e+00  0.000000e+00   -8.900000e+01  -8.900000e+01   \n",
       "25%    5.200000e-02  1.270000e+03    5.000000e+01   4.600000e+01   \n",
       "50%    2.440000e-01  4.007000e+03    6.400000e+01   6.300000e+01   \n",
       "75%    7.640000e-01  9.567000e+03    7.600000e+01   7.600000e+01   \n",
       "max    1.551860e+02  9.999997e+06    1.960000e+02   1.960000e+02   \n",
       "\n",
       "        Humidity(%)  Pressure(in)  Visibility(mi)  Wind_Speed(mph)  \\\n",
       "count  2.772250e+06  2.786142e+06    2.774796e+06     2.687398e+06   \n",
       "mean   6.436545e+01  2.947234e+01    9.099391e+00     7.395044e+00   \n",
       "std    2.287457e+01  1.045286e+00    2.717546e+00     5.527454e+00   \n",
       "min    1.000000e+00  0.000000e+00    0.000000e+00     0.000000e+00   \n",
       "25%    4.800000e+01  2.931000e+01    1.000000e+01     3.500000e+00   \n",
       "50%    6.700000e+01  2.982000e+01    1.000000e+01     7.000000e+00   \n",
       "75%    8.300000e+01  3.001000e+01    1.000000e+01     1.000000e+01   \n",
       "max    1.000000e+02  5.890000e+01    1.400000e+02     1.087000e+03   \n",
       "\n",
       "       Precipitation(in)  \n",
       "count       2.295884e+06  \n",
       "mean        7.016940e-03  \n",
       "std         9.348831e-02  \n",
       "min         0.000000e+00  \n",
       "25%         0.000000e+00  \n",
       "50%         0.000000e+00  \n",
       "75%         0.000000e+00  \n",
       "max         2.400000e+01  "
      ]
     },
     "execution_count": 9,
     "metadata": {},
     "output_type": "execute_result"
    }
   ],
   "source": [
    "df.describe()"
   ]
  },
  {
   "cell_type": "code",
   "execution_count": 10,
   "id": "905f07f4",
   "metadata": {},
   "outputs": [
    {
     "data": {
      "text/plain": [
       "ID                             0\n",
       "Severity                       0\n",
       "Start_Time                     0\n",
       "End_Time                       0\n",
       "Start_Lat                      0\n",
       "Start_Lng                      0\n",
       "End_Lat                        0\n",
       "End_Lng                        0\n",
       "Distance(mi)                   0\n",
       "Description                    0\n",
       "Number                   1743911\n",
       "Street                         2\n",
       "Side                           0\n",
       "City                         137\n",
       "County                         0\n",
       "State                          0\n",
       "Zipcode                     1319\n",
       "Country                        0\n",
       "Timezone                    3659\n",
       "Airport_Code                9549\n",
       "Weather_Timestamp          50736\n",
       "Temperature(F)             69274\n",
       "Wind_Chill(F)             469643\n",
       "Humidity(%)                73092\n",
       "Pressure(in)               59200\n",
       "Visibility(mi)             70546\n",
       "Wind_Direction             73775\n",
       "Wind_Speed(mph)           157944\n",
       "Precipitation(in)         549458\n",
       "Weather_Condition          70636\n",
       "Amenity                        0\n",
       "Bump                           0\n",
       "Crossing                       0\n",
       "Give_Way                       0\n",
       "Junction                       0\n",
       "No_Exit                        0\n",
       "Railway                        0\n",
       "Roundabout                     0\n",
       "Station                        0\n",
       "Stop                           0\n",
       "Traffic_Calming                0\n",
       "Traffic_Signal                 0\n",
       "Turning_Loop                   0\n",
       "Sunrise_Sunset              2867\n",
       "Civil_Twilight              2867\n",
       "Nautical_Twilight           2867\n",
       "Astronomical_Twilight       2867\n",
       "dtype: int64"
      ]
     },
     "execution_count": 10,
     "metadata": {},
     "output_type": "execute_result"
    }
   ],
   "source": [
    "df.isnull().sum()"
   ]
  },
  {
   "cell_type": "code",
   "execution_count": 11,
   "id": "9d7299bf",
   "metadata": {},
   "outputs": [
    {
     "data": {
      "text/html": [
       "<div>\n",
       "<style scoped>\n",
       "    .dataframe tbody tr th:only-of-type {\n",
       "        vertical-align: middle;\n",
       "    }\n",
       "\n",
       "    .dataframe tbody tr th {\n",
       "        vertical-align: top;\n",
       "    }\n",
       "\n",
       "    .dataframe thead th {\n",
       "        text-align: right;\n",
       "    }\n",
       "</style>\n",
       "<table border=\"1\" class=\"dataframe\">\n",
       "  <thead>\n",
       "    <tr style=\"text-align: right;\">\n",
       "      <th></th>\n",
       "      <th>Severity</th>\n",
       "      <th>Start_Lat</th>\n",
       "      <th>Start_Lng</th>\n",
       "      <th>End_Lat</th>\n",
       "      <th>End_Lng</th>\n",
       "      <th>Distance(mi)</th>\n",
       "      <th>Number</th>\n",
       "      <th>Temperature(F)</th>\n",
       "      <th>Wind_Chill(F)</th>\n",
       "      <th>Humidity(%)</th>\n",
       "      <th>Pressure(in)</th>\n",
       "      <th>Visibility(mi)</th>\n",
       "      <th>Wind_Speed(mph)</th>\n",
       "      <th>Precipitation(in)</th>\n",
       "    </tr>\n",
       "  </thead>\n",
       "  <tbody>\n",
       "    <tr>\n",
       "      <th>0</th>\n",
       "      <td>3</td>\n",
       "      <td>40.108910</td>\n",
       "      <td>-83.092860</td>\n",
       "      <td>40.112060</td>\n",
       "      <td>-83.031870</td>\n",
       "      <td>3.230</td>\n",
       "      <td>NaN</td>\n",
       "      <td>42.1</td>\n",
       "      <td>36.1</td>\n",
       "      <td>58.0</td>\n",
       "      <td>29.76</td>\n",
       "      <td>10.0</td>\n",
       "      <td>10.4</td>\n",
       "      <td>0.00</td>\n",
       "    </tr>\n",
       "    <tr>\n",
       "      <th>1</th>\n",
       "      <td>2</td>\n",
       "      <td>39.865420</td>\n",
       "      <td>-84.062800</td>\n",
       "      <td>39.865010</td>\n",
       "      <td>-84.048730</td>\n",
       "      <td>0.747</td>\n",
       "      <td>NaN</td>\n",
       "      <td>36.9</td>\n",
       "      <td>NaN</td>\n",
       "      <td>91.0</td>\n",
       "      <td>29.68</td>\n",
       "      <td>10.0</td>\n",
       "      <td>NaN</td>\n",
       "      <td>0.02</td>\n",
       "    </tr>\n",
       "    <tr>\n",
       "      <th>2</th>\n",
       "      <td>2</td>\n",
       "      <td>39.102660</td>\n",
       "      <td>-84.524680</td>\n",
       "      <td>39.102090</td>\n",
       "      <td>-84.523960</td>\n",
       "      <td>0.055</td>\n",
       "      <td>NaN</td>\n",
       "      <td>36.0</td>\n",
       "      <td>NaN</td>\n",
       "      <td>97.0</td>\n",
       "      <td>29.70</td>\n",
       "      <td>10.0</td>\n",
       "      <td>NaN</td>\n",
       "      <td>0.02</td>\n",
       "    </tr>\n",
       "    <tr>\n",
       "      <th>3</th>\n",
       "      <td>2</td>\n",
       "      <td>41.062130</td>\n",
       "      <td>-81.537840</td>\n",
       "      <td>41.062170</td>\n",
       "      <td>-81.535470</td>\n",
       "      <td>0.123</td>\n",
       "      <td>NaN</td>\n",
       "      <td>39.0</td>\n",
       "      <td>NaN</td>\n",
       "      <td>55.0</td>\n",
       "      <td>29.65</td>\n",
       "      <td>10.0</td>\n",
       "      <td>NaN</td>\n",
       "      <td>NaN</td>\n",
       "    </tr>\n",
       "    <tr>\n",
       "      <th>4</th>\n",
       "      <td>3</td>\n",
       "      <td>39.172393</td>\n",
       "      <td>-84.492792</td>\n",
       "      <td>39.170476</td>\n",
       "      <td>-84.501798</td>\n",
       "      <td>0.500</td>\n",
       "      <td>NaN</td>\n",
       "      <td>37.0</td>\n",
       "      <td>29.8</td>\n",
       "      <td>93.0</td>\n",
       "      <td>29.69</td>\n",
       "      <td>10.0</td>\n",
       "      <td>10.4</td>\n",
       "      <td>0.01</td>\n",
       "    </tr>\n",
       "    <tr>\n",
       "      <th>...</th>\n",
       "      <td>...</td>\n",
       "      <td>...</td>\n",
       "      <td>...</td>\n",
       "      <td>...</td>\n",
       "      <td>...</td>\n",
       "      <td>...</td>\n",
       "      <td>...</td>\n",
       "      <td>...</td>\n",
       "      <td>...</td>\n",
       "      <td>...</td>\n",
       "      <td>...</td>\n",
       "      <td>...</td>\n",
       "      <td>...</td>\n",
       "      <td>...</td>\n",
       "    </tr>\n",
       "    <tr>\n",
       "      <th>2845337</th>\n",
       "      <td>2</td>\n",
       "      <td>34.002480</td>\n",
       "      <td>-117.379360</td>\n",
       "      <td>33.998880</td>\n",
       "      <td>-117.370940</td>\n",
       "      <td>0.543</td>\n",
       "      <td>NaN</td>\n",
       "      <td>86.0</td>\n",
       "      <td>86.0</td>\n",
       "      <td>40.0</td>\n",
       "      <td>28.92</td>\n",
       "      <td>10.0</td>\n",
       "      <td>13.0</td>\n",
       "      <td>0.00</td>\n",
       "    </tr>\n",
       "    <tr>\n",
       "      <th>2845338</th>\n",
       "      <td>2</td>\n",
       "      <td>32.766960</td>\n",
       "      <td>-117.148060</td>\n",
       "      <td>32.765550</td>\n",
       "      <td>-117.153630</td>\n",
       "      <td>0.338</td>\n",
       "      <td>NaN</td>\n",
       "      <td>70.0</td>\n",
       "      <td>70.0</td>\n",
       "      <td>73.0</td>\n",
       "      <td>29.39</td>\n",
       "      <td>10.0</td>\n",
       "      <td>6.0</td>\n",
       "      <td>0.00</td>\n",
       "    </tr>\n",
       "    <tr>\n",
       "      <th>2845339</th>\n",
       "      <td>2</td>\n",
       "      <td>33.775450</td>\n",
       "      <td>-117.847790</td>\n",
       "      <td>33.777400</td>\n",
       "      <td>-117.857270</td>\n",
       "      <td>0.561</td>\n",
       "      <td>NaN</td>\n",
       "      <td>73.0</td>\n",
       "      <td>73.0</td>\n",
       "      <td>64.0</td>\n",
       "      <td>29.74</td>\n",
       "      <td>10.0</td>\n",
       "      <td>10.0</td>\n",
       "      <td>0.00</td>\n",
       "    </tr>\n",
       "    <tr>\n",
       "      <th>2845340</th>\n",
       "      <td>2</td>\n",
       "      <td>33.992460</td>\n",
       "      <td>-118.403020</td>\n",
       "      <td>33.983110</td>\n",
       "      <td>-118.395650</td>\n",
       "      <td>0.772</td>\n",
       "      <td>NaN</td>\n",
       "      <td>71.0</td>\n",
       "      <td>71.0</td>\n",
       "      <td>81.0</td>\n",
       "      <td>29.62</td>\n",
       "      <td>10.0</td>\n",
       "      <td>8.0</td>\n",
       "      <td>0.00</td>\n",
       "    </tr>\n",
       "    <tr>\n",
       "      <th>2845341</th>\n",
       "      <td>2</td>\n",
       "      <td>34.133930</td>\n",
       "      <td>-117.230920</td>\n",
       "      <td>34.137360</td>\n",
       "      <td>-117.239340</td>\n",
       "      <td>0.537</td>\n",
       "      <td>NaN</td>\n",
       "      <td>79.0</td>\n",
       "      <td>79.0</td>\n",
       "      <td>47.0</td>\n",
       "      <td>28.63</td>\n",
       "      <td>7.0</td>\n",
       "      <td>7.0</td>\n",
       "      <td>0.00</td>\n",
       "    </tr>\n",
       "  </tbody>\n",
       "</table>\n",
       "<p>2845342 rows × 14 columns</p>\n",
       "</div>"
      ],
      "text/plain": [
       "         Severity  Start_Lat   Start_Lng    End_Lat     End_Lng  Distance(mi)  \\\n",
       "0               3  40.108910  -83.092860  40.112060  -83.031870         3.230   \n",
       "1               2  39.865420  -84.062800  39.865010  -84.048730         0.747   \n",
       "2               2  39.102660  -84.524680  39.102090  -84.523960         0.055   \n",
       "3               2  41.062130  -81.537840  41.062170  -81.535470         0.123   \n",
       "4               3  39.172393  -84.492792  39.170476  -84.501798         0.500   \n",
       "...           ...        ...         ...        ...         ...           ...   \n",
       "2845337         2  34.002480 -117.379360  33.998880 -117.370940         0.543   \n",
       "2845338         2  32.766960 -117.148060  32.765550 -117.153630         0.338   \n",
       "2845339         2  33.775450 -117.847790  33.777400 -117.857270         0.561   \n",
       "2845340         2  33.992460 -118.403020  33.983110 -118.395650         0.772   \n",
       "2845341         2  34.133930 -117.230920  34.137360 -117.239340         0.537   \n",
       "\n",
       "         Number  Temperature(F)  Wind_Chill(F)  Humidity(%)  Pressure(in)  \\\n",
       "0           NaN            42.1           36.1         58.0         29.76   \n",
       "1           NaN            36.9            NaN         91.0         29.68   \n",
       "2           NaN            36.0            NaN         97.0         29.70   \n",
       "3           NaN            39.0            NaN         55.0         29.65   \n",
       "4           NaN            37.0           29.8         93.0         29.69   \n",
       "...         ...             ...            ...          ...           ...   \n",
       "2845337     NaN            86.0           86.0         40.0         28.92   \n",
       "2845338     NaN            70.0           70.0         73.0         29.39   \n",
       "2845339     NaN            73.0           73.0         64.0         29.74   \n",
       "2845340     NaN            71.0           71.0         81.0         29.62   \n",
       "2845341     NaN            79.0           79.0         47.0         28.63   \n",
       "\n",
       "         Visibility(mi)  Wind_Speed(mph)  Precipitation(in)  \n",
       "0                  10.0             10.4               0.00  \n",
       "1                  10.0              NaN               0.02  \n",
       "2                  10.0              NaN               0.02  \n",
       "3                  10.0              NaN                NaN  \n",
       "4                  10.0             10.4               0.01  \n",
       "...                 ...              ...                ...  \n",
       "2845337            10.0             13.0               0.00  \n",
       "2845338            10.0              6.0               0.00  \n",
       "2845339            10.0             10.0               0.00  \n",
       "2845340            10.0              8.0               0.00  \n",
       "2845341             7.0              7.0               0.00  \n",
       "\n",
       "[2845342 rows x 14 columns]"
      ]
     },
     "execution_count": 11,
     "metadata": {},
     "output_type": "execute_result"
    }
   ],
   "source": [
    "# counting the numerical col in the data.\n",
    "\n",
    "\n",
    "numeric = ['int16','int32','int64','float16','float32','float64' ]\n",
    "numeric_df = df.select_dtypes(include=numeric)\n",
    "numeric_df"
   ]
  },
  {
   "cell_type": "code",
   "execution_count": 12,
   "id": "7a8accaf",
   "metadata": {},
   "outputs": [
    {
     "data": {
      "text/plain": [
       "Severity                   4\n",
       "Start_Lat            1093618\n",
       "Start_Lng            1120365\n",
       "End_Lat              1080811\n",
       "End_Lng              1105404\n",
       "Distance(mi)           14165\n",
       "Number                 46402\n",
       "Temperature(F)           788\n",
       "Wind_Chill(F)            897\n",
       "Humidity(%)              100\n",
       "Pressure(in)            1068\n",
       "Visibility(mi)            76\n",
       "Wind_Speed(mph)          136\n",
       "Precipitation(in)        230\n",
       "dtype: int64"
      ]
     },
     "execution_count": 12,
     "metadata": {},
     "output_type": "execute_result"
    }
   ],
   "source": [
    "numeric_df.nunique()"
   ]
  },
  {
   "cell_type": "code",
   "execution_count": 13,
   "id": "0bb5ab51",
   "metadata": {},
   "outputs": [
    {
     "data": {
      "text/plain": [
       "14"
      ]
     },
     "execution_count": 13,
     "metadata": {},
     "output_type": "execute_result"
    }
   ],
   "source": [
    "len(numeric_df.columns)"
   ]
  },
  {
   "cell_type": "markdown",
   "id": "2d256d37",
   "metadata": {},
   "source": [
    "# Percentage of missing values per columns"
   ]
  },
  {
   "cell_type": "code",
   "execution_count": 14,
   "id": "768333f0",
   "metadata": {},
   "outputs": [
    {
     "data": {
      "text/plain": [
       "Number                   1743911\n",
       "Precipitation(in)         549458\n",
       "Wind_Chill(F)             469643\n",
       "Wind_Speed(mph)           157944\n",
       "Wind_Direction             73775\n",
       "Humidity(%)                73092\n",
       "Weather_Condition          70636\n",
       "Visibility(mi)             70546\n",
       "Temperature(F)             69274\n",
       "Pressure(in)               59200\n",
       "Weather_Timestamp          50736\n",
       "Airport_Code                9549\n",
       "Timezone                    3659\n",
       "Nautical_Twilight           2867\n",
       "Civil_Twilight              2867\n",
       "Sunrise_Sunset              2867\n",
       "Astronomical_Twilight       2867\n",
       "Zipcode                     1319\n",
       "City                         137\n",
       "Street                         2\n",
       "Country                        0\n",
       "Junction                       0\n",
       "Start_Time                     0\n",
       "End_Time                       0\n",
       "Start_Lat                      0\n",
       "Turning_Loop                   0\n",
       "Traffic_Signal                 0\n",
       "Traffic_Calming                0\n",
       "Stop                           0\n",
       "Station                        0\n",
       "Roundabout                     0\n",
       "Railway                        0\n",
       "No_Exit                        0\n",
       "Crossing                       0\n",
       "Give_Way                       0\n",
       "Bump                           0\n",
       "Amenity                        0\n",
       "Start_Lng                      0\n",
       "End_Lat                        0\n",
       "End_Lng                        0\n",
       "Distance(mi)                   0\n",
       "Description                    0\n",
       "Severity                       0\n",
       "Side                           0\n",
       "County                         0\n",
       "State                          0\n",
       "ID                             0\n",
       "dtype: int64"
      ]
     },
     "execution_count": 14,
     "metadata": {},
     "output_type": "execute_result"
    }
   ],
   "source": [
    "df.isnull().sum().sort_values(ascending=False)"
   ]
  },
  {
   "cell_type": "code",
   "execution_count": 15,
   "id": "444e2af9",
   "metadata": {},
   "outputs": [
    {
     "data": {
      "text/plain": [
       "3414349"
      ]
     },
     "execution_count": 15,
     "metadata": {},
     "output_type": "execute_result"
    }
   ],
   "source": [
    "# total missing values\n",
    "\n",
    "total_missing_val=df.isnull().sum().sum()\n",
    "total_missing_val"
   ]
  },
  {
   "cell_type": "code",
   "execution_count": 16,
   "id": "0cc27785",
   "metadata": {},
   "outputs": [
    {
     "data": {
      "text/plain": [
       "119.99784208717266"
      ]
     },
     "execution_count": 16,
     "metadata": {},
     "output_type": "execute_result"
    }
   ],
   "source": [
    "#percentage of overall missing values\n",
    "\n",
    "total_per=(total_missing_val/len(df))*100\n",
    "total_per"
   ]
  },
  {
   "cell_type": "code",
   "execution_count": 17,
   "id": "02b4dc29",
   "metadata": {},
   "outputs": [
    {
     "data": {
      "text/plain": [
       "Number                   61.290031\n",
       "Precipitation(in)        19.310789\n",
       "Wind_Chill(F)            16.505678\n",
       "Wind_Speed(mph)           5.550967\n",
       "Wind_Direction            2.592834\n",
       "Humidity(%)               2.568830\n",
       "Weather_Condition         2.482514\n",
       "Visibility(mi)            2.479350\n",
       "Temperature(F)            2.434646\n",
       "Pressure(in)              2.080593\n",
       "Weather_Timestamp         1.783125\n",
       "Airport_Code              0.335601\n",
       "Timezone                  0.128596\n",
       "Nautical_Twilight         0.100761\n",
       "Civil_Twilight            0.100761\n",
       "Sunrise_Sunset            0.100761\n",
       "Astronomical_Twilight     0.100761\n",
       "Zipcode                   0.046356\n",
       "City                      0.004815\n",
       "Street                    0.000070\n",
       "Country                   0.000000\n",
       "Junction                  0.000000\n",
       "Start_Time                0.000000\n",
       "End_Time                  0.000000\n",
       "Start_Lat                 0.000000\n",
       "Turning_Loop              0.000000\n",
       "Traffic_Signal            0.000000\n",
       "Traffic_Calming           0.000000\n",
       "Stop                      0.000000\n",
       "Station                   0.000000\n",
       "Roundabout                0.000000\n",
       "Railway                   0.000000\n",
       "No_Exit                   0.000000\n",
       "Crossing                  0.000000\n",
       "Give_Way                  0.000000\n",
       "Bump                      0.000000\n",
       "Amenity                   0.000000\n",
       "Start_Lng                 0.000000\n",
       "End_Lat                   0.000000\n",
       "End_Lng                   0.000000\n",
       "Distance(mi)              0.000000\n",
       "Description               0.000000\n",
       "Severity                  0.000000\n",
       "Side                      0.000000\n",
       "County                    0.000000\n",
       "State                     0.000000\n",
       "ID                        0.000000\n",
       "dtype: float64"
      ]
     },
     "execution_count": 17,
     "metadata": {},
     "output_type": "execute_result"
    }
   ],
   "source": [
    "# percentage of missing values column wise\n",
    "\n",
    "per_of_missing_val_in_each_col= (df.isnull().sum().sort_values(ascending=False)/len(df))*100\n",
    "per_of_missing_val_in_each_col\n",
    "\n",
    "# obs: 61% of data is missing in Number column"
   ]
  },
  {
   "cell_type": "code",
   "execution_count": 18,
   "id": "bac2c75a",
   "metadata": {},
   "outputs": [
    {
     "data": {
      "text/plain": [
       "Text(0, 0.5, 'Columns')"
      ]
     },
     "execution_count": 18,
     "metadata": {},
     "output_type": "execute_result"
    },
    {
     "data": {
      "image/png": "[encoded data removed]",
      "text/plain": [
       "<Figure size 864x648 with 1 Axes>"
      ]
     },
     "metadata": {
      "needs_background": "light"
     },
     "output_type": "display_data"
    }
   ],
   "source": [
    "# missing value graph\n",
    "\n",
    "\n",
    "plt.figure(figsize=(12,9))\n",
    "sns.barplot(y=per_of_missing_val_in_each_col.index, x=per_of_missing_val_in_each_col)\n",
    "plt.title(\"Percentage of null values in the dataset\",size=17,color=\"grey\")\n",
    "plt.xlabel('Percentage (%)')\n",
    "plt.ylabel('Columns')"
   ]
  },
  {
   "cell_type": "code",
   "execution_count": 19,
   "id": "a173f8ab",
   "metadata": {},
   "outputs": [
    {
     "data": {
      "text/plain": [
       "Number                   61.290031\n",
       "Precipitation(in)        19.310789\n",
       "Wind_Chill(F)            16.505678\n",
       "Wind_Speed(mph)           5.550967\n",
       "Wind_Direction            2.592834\n",
       "Humidity(%)               2.568830\n",
       "Weather_Condition         2.482514\n",
       "Visibility(mi)            2.479350\n",
       "Temperature(F)            2.434646\n",
       "Pressure(in)              2.080593\n",
       "Weather_Timestamp         1.783125\n",
       "Airport_Code              0.335601\n",
       "Timezone                  0.128596\n",
       "Nautical_Twilight         0.100761\n",
       "Civil_Twilight            0.100761\n",
       "Sunrise_Sunset            0.100761\n",
       "Astronomical_Twilight     0.100761\n",
       "Zipcode                   0.046356\n",
       "City                      0.004815\n",
       "Street                    0.000070\n",
       "dtype: float64"
      ]
     },
     "execution_count": 19,
     "metadata": {},
     "output_type": "execute_result"
    }
   ],
   "source": [
    "#columns having missing values are\n",
    "\n",
    "\n",
    "col_with_missing_val=per_of_missing_val_in_each_col[per_of_missing_val_in_each_col>0]\n",
    "col_with_missing_val\n"
   ]
  },
  {
   "cell_type": "code",
   "execution_count": 20,
   "id": "3baf6259",
   "metadata": {},
   "outputs": [
    {
     "data": {
      "text/plain": [
       "Text(0, 0.5, 'Columns')"
      ]
     },
     "execution_count": 20,
     "metadata": {},
     "output_type": "execute_result"
    },
    {
     "data": {
      "image/png": "[encoded data removed]",
      "text/plain": [
       "<Figure size 864x648 with 1 Axes>"
      ]
     },
     "metadata": {
      "needs_background": "light"
     },
     "output_type": "display_data"
    }
   ],
   "source": [
    "#plotting graph for only columns having missing values\n",
    "\n",
    "\n",
    "plt.figure(figsize=(12,9))\n",
    "sns.barplot(y=col_with_missing_val.index, x=col_with_missing_val)\n",
    "plt.title(\"Percentage of null values in the dataset\",size=17,color=\"grey\")\n",
    "plt.xlabel('Percentage (%)')\n",
    "plt.ylabel('Columns')"
   ]
  },
  {
   "cell_type": "markdown",
   "id": "c9f34d81",
   "metadata": {},
   "source": [
    "# Remove the columns which is having more than 50% missing values.\n"
   ]
  },
  {
   "cell_type": "code",
   "execution_count": 21,
   "id": "acc9aec4",
   "metadata": {},
   "outputs": [
    {
     "data": {
      "text/plain": [
       "Number    61.290031\n",
       "dtype: float64"
      ]
     },
     "execution_count": 21,
     "metadata": {},
     "output_type": "execute_result"
    }
   ],
   "source": [
    "per_of_missing_val_in_each_col[per_of_missing_val_in_each_col>50.0]\n",
    "\n",
    "#obs: Number col have approx 61% data missing hence ddeleting this col"
   ]
  },
  {
   "cell_type": "code",
   "execution_count": 22,
   "id": "668dd42c",
   "metadata": {},
   "outputs": [],
   "source": [
    "df = df.drop(\"Number\",axis=1)"
   ]
  },
  {
   "cell_type": "code",
   "execution_count": 23,
   "id": "cf0e4115",
   "metadata": {},
   "outputs": [
    {
     "data": {
      "text/plain": [
       "(2845342, 46)"
      ]
     },
     "execution_count": 23,
     "metadata": {},
     "output_type": "execute_result"
    }
   ],
   "source": [
    "df.shape"
   ]
  },
  {
   "cell_type": "markdown",
   "id": "51b9a43a",
   "metadata": {},
   "source": [
    "# EDA & Vizualisation\n"
   ]
  },
  {
   "cell_type": "code",
   "execution_count": 24,
   "id": "b1ffd29c",
   "metadata": {},
   "outputs": [
    {
     "data": {
      "text/html": [
       "<div>\n",
       "<style scoped>\n",
       "    .dataframe tbody tr th:only-of-type {\n",
       "        vertical-align: middle;\n",
       "    }\n",
       "\n",
       "    .dataframe tbody tr th {\n",
       "        vertical-align: top;\n",
       "    }\n",
       "\n",
       "    .dataframe thead th {\n",
       "        text-align: right;\n",
       "    }\n",
       "</style>\n",
       "<table border=\"1\" class=\"dataframe\">\n",
       "  <thead>\n",
       "    <tr style=\"text-align: right;\">\n",
       "      <th></th>\n",
       "      <th>Severity</th>\n",
       "      <th>Start_Lat</th>\n",
       "      <th>Start_Lng</th>\n",
       "      <th>End_Lat</th>\n",
       "      <th>End_Lng</th>\n",
       "      <th>Distance(mi)</th>\n",
       "      <th>Temperature(F)</th>\n",
       "      <th>Wind_Chill(F)</th>\n",
       "      <th>Humidity(%)</th>\n",
       "      <th>Pressure(in)</th>\n",
       "      <th>Visibility(mi)</th>\n",
       "      <th>Wind_Speed(mph)</th>\n",
       "      <th>Precipitation(in)</th>\n",
       "    </tr>\n",
       "  </thead>\n",
       "  <tbody>\n",
       "    <tr>\n",
       "      <th>count</th>\n",
       "      <td>2.845342e+06</td>\n",
       "      <td>2.845342e+06</td>\n",
       "      <td>2.845342e+06</td>\n",
       "      <td>2.845342e+06</td>\n",
       "      <td>2.845342e+06</td>\n",
       "      <td>2.845342e+06</td>\n",
       "      <td>2.776068e+06</td>\n",
       "      <td>2.375699e+06</td>\n",
       "      <td>2.772250e+06</td>\n",
       "      <td>2.786142e+06</td>\n",
       "      <td>2.774796e+06</td>\n",
       "      <td>2.687398e+06</td>\n",
       "      <td>2.295884e+06</td>\n",
       "    </tr>\n",
       "    <tr>\n",
       "      <th>mean</th>\n",
       "      <td>2.137572e+00</td>\n",
       "      <td>3.624520e+01</td>\n",
       "      <td>-9.711463e+01</td>\n",
       "      <td>3.624532e+01</td>\n",
       "      <td>-9.711439e+01</td>\n",
       "      <td>7.026779e-01</td>\n",
       "      <td>6.179356e+01</td>\n",
       "      <td>5.965823e+01</td>\n",
       "      <td>6.436545e+01</td>\n",
       "      <td>2.947234e+01</td>\n",
       "      <td>9.099391e+00</td>\n",
       "      <td>7.395044e+00</td>\n",
       "      <td>7.016940e-03</td>\n",
       "    </tr>\n",
       "    <tr>\n",
       "      <th>std</th>\n",
       "      <td>4.787216e-01</td>\n",
       "      <td>5.363797e+00</td>\n",
       "      <td>1.831782e+01</td>\n",
       "      <td>5.363873e+00</td>\n",
       "      <td>1.831763e+01</td>\n",
       "      <td>1.560361e+00</td>\n",
       "      <td>1.862263e+01</td>\n",
       "      <td>2.116097e+01</td>\n",
       "      <td>2.287457e+01</td>\n",
       "      <td>1.045286e+00</td>\n",
       "      <td>2.717546e+00</td>\n",
       "      <td>5.527454e+00</td>\n",
       "      <td>9.348831e-02</td>\n",
       "    </tr>\n",
       "    <tr>\n",
       "      <th>min</th>\n",
       "      <td>1.000000e+00</td>\n",
       "      <td>2.456603e+01</td>\n",
       "      <td>-1.245481e+02</td>\n",
       "      <td>2.456601e+01</td>\n",
       "      <td>-1.245457e+02</td>\n",
       "      <td>0.000000e+00</td>\n",
       "      <td>-8.900000e+01</td>\n",
       "      <td>-8.900000e+01</td>\n",
       "      <td>1.000000e+00</td>\n",
       "      <td>0.000000e+00</td>\n",
       "      <td>0.000000e+00</td>\n",
       "      <td>0.000000e+00</td>\n",
       "      <td>0.000000e+00</td>\n",
       "    </tr>\n",
       "    <tr>\n",
       "      <th>25%</th>\n",
       "      <td>2.000000e+00</td>\n",
       "      <td>3.344517e+01</td>\n",
       "      <td>-1.180331e+02</td>\n",
       "      <td>3.344628e+01</td>\n",
       "      <td>-1.180333e+02</td>\n",
       "      <td>5.200000e-02</td>\n",
       "      <td>5.000000e+01</td>\n",
       "      <td>4.600000e+01</td>\n",
       "      <td>4.800000e+01</td>\n",
       "      <td>2.931000e+01</td>\n",
       "      <td>1.000000e+01</td>\n",
       "      <td>3.500000e+00</td>\n",
       "      <td>0.000000e+00</td>\n",
       "    </tr>\n",
       "    <tr>\n",
       "      <th>50%</th>\n",
       "      <td>2.000000e+00</td>\n",
       "      <td>3.609861e+01</td>\n",
       "      <td>-9.241808e+01</td>\n",
       "      <td>3.609799e+01</td>\n",
       "      <td>-9.241772e+01</td>\n",
       "      <td>2.440000e-01</td>\n",
       "      <td>6.400000e+01</td>\n",
       "      <td>6.300000e+01</td>\n",
       "      <td>6.700000e+01</td>\n",
       "      <td>2.982000e+01</td>\n",
       "      <td>1.000000e+01</td>\n",
       "      <td>7.000000e+00</td>\n",
       "      <td>0.000000e+00</td>\n",
       "    </tr>\n",
       "    <tr>\n",
       "      <th>75%</th>\n",
       "      <td>2.000000e+00</td>\n",
       "      <td>4.016024e+01</td>\n",
       "      <td>-8.037243e+01</td>\n",
       "      <td>4.016105e+01</td>\n",
       "      <td>-8.037338e+01</td>\n",
       "      <td>7.640000e-01</td>\n",
       "      <td>7.600000e+01</td>\n",
       "      <td>7.600000e+01</td>\n",
       "      <td>8.300000e+01</td>\n",
       "      <td>3.001000e+01</td>\n",
       "      <td>1.000000e+01</td>\n",
       "      <td>1.000000e+01</td>\n",
       "      <td>0.000000e+00</td>\n",
       "    </tr>\n",
       "    <tr>\n",
       "      <th>max</th>\n",
       "      <td>4.000000e+00</td>\n",
       "      <td>4.900058e+01</td>\n",
       "      <td>-6.711317e+01</td>\n",
       "      <td>4.907500e+01</td>\n",
       "      <td>-6.710924e+01</td>\n",
       "      <td>1.551860e+02</td>\n",
       "      <td>1.960000e+02</td>\n",
       "      <td>1.960000e+02</td>\n",
       "      <td>1.000000e+02</td>\n",
       "      <td>5.890000e+01</td>\n",
       "      <td>1.400000e+02</td>\n",
       "      <td>1.087000e+03</td>\n",
       "      <td>2.400000e+01</td>\n",
       "    </tr>\n",
       "  </tbody>\n",
       "</table>\n",
       "</div>"
      ],
      "text/plain": [
       "           Severity     Start_Lat     Start_Lng       End_Lat       End_Lng  \\\n",
       "count  2.845342e+06  2.845342e+06  2.845342e+06  2.845342e+06  2.845342e+06   \n",
       "mean   2.137572e+00  3.624520e+01 -9.711463e+01  3.624532e+01 -9.711439e+01   \n",
       "std    4.787216e-01  5.363797e+00  1.831782e+01  5.363873e+00  1.831763e+01   \n",
       "min    1.000000e+00  2.456603e+01 -1.245481e+02  2.456601e+01 -1.245457e+02   \n",
       "25%    2.000000e+00  3.344517e+01 -1.180331e+02  3.344628e+01 -1.180333e+02   \n",
       "50%    2.000000e+00  3.609861e+01 -9.241808e+01  3.609799e+01 -9.241772e+01   \n",
       "75%    2.000000e+00  4.016024e+01 -8.037243e+01  4.016105e+01 -8.037338e+01   \n",
       "max    4.000000e+00  4.900058e+01 -6.711317e+01  4.907500e+01 -6.710924e+01   \n",
       "\n",
       "       Distance(mi)  Temperature(F)  Wind_Chill(F)   Humidity(%)  \\\n",
       "count  2.845342e+06    2.776068e+06   2.375699e+06  2.772250e+06   \n",
       "mean   7.026779e-01    6.179356e+01   5.965823e+01  6.436545e+01   \n",
       "std    1.560361e+00    1.862263e+01   2.116097e+01  2.287457e+01   \n",
       "min    0.000000e+00   -8.900000e+01  -8.900000e+01  1.000000e+00   \n",
       "25%    5.200000e-02    5.000000e+01   4.600000e+01  4.800000e+01   \n",
       "50%    2.440000e-01    6.400000e+01   6.300000e+01  6.700000e+01   \n",
       "75%    7.640000e-01    7.600000e+01   7.600000e+01  8.300000e+01   \n",
       "max    1.551860e+02    1.960000e+02   1.960000e+02  1.000000e+02   \n",
       "\n",
       "       Pressure(in)  Visibility(mi)  Wind_Speed(mph)  Precipitation(in)  \n",
       "count  2.786142e+06    2.774796e+06     2.687398e+06       2.295884e+06  \n",
       "mean   2.947234e+01    9.099391e+00     7.395044e+00       7.016940e-03  \n",
       "std    1.045286e+00    2.717546e+00     5.527454e+00       9.348831e-02  \n",
       "min    0.000000e+00    0.000000e+00     0.000000e+00       0.000000e+00  \n",
       "25%    2.931000e+01    1.000000e+01     3.500000e+00       0.000000e+00  \n",
       "50%    2.982000e+01    1.000000e+01     7.000000e+00       0.000000e+00  \n",
       "75%    3.001000e+01    1.000000e+01     1.000000e+01       0.000000e+00  \n",
       "max    5.890000e+01    1.400000e+02     1.087000e+03       2.400000e+01  "
      ]
     },
     "execution_count": 24,
     "metadata": {},
     "output_type": "execute_result"
    }
   ],
   "source": [
    "df.describe()"
   ]
  },
  {
   "cell_type": "markdown",
   "id": "e33396db",
   "metadata": {},
   "source": [
    ">Insights\n",
    "\n",
    ">- This tells that majority of accidents have severity ~2 means not much higher impact on traffic.\n",
    ">- in approx 75% cases no precipitation was recorded so this could mean rain is not the reason for accidents.\n",
    ">- on an avg accidents happen even while the visibility is ~9 miles so this could mean that visibility is not a reason.\n",
    ">-  average length of the road extent affected by the accident is 7 miles"
   ]
  },
  {
   "cell_type": "markdown",
   "id": "b3a3070c",
   "metadata": {},
   "source": [
    " how many cities are there in dataset?"
   ]
  },
  {
   "cell_type": "code",
   "execution_count": 25,
   "id": "0afbd15f",
   "metadata": {},
   "outputs": [
    {
     "data": {
      "text/plain": [
       "11681"
      ]
     },
     "execution_count": 25,
     "metadata": {},
     "output_type": "execute_result"
    }
   ],
   "source": [
    "df['City'].nunique()"
   ]
  },
  {
   "cell_type": "markdown",
   "id": "659f10d9",
   "metadata": {},
   "source": [
    "> There are total 11681 cities"
   ]
  },
  {
   "cell_type": "code",
   "execution_count": null,
   "id": "248698c5",
   "metadata": {},
   "outputs": [],
   "source": [
    "City_count=df['City'].value_counts()"
   ]
  },
  {
   "cell_type": "markdown",
   "id": "01a4a6ef",
   "metadata": {},
   "source": [
    " Top 10 city in US which has the most number of accident cases?"
   ]
  },
  {
   "cell_type": "code",
   "execution_count": null,
   "id": "ef43057c",
   "metadata": {},
   "outputs": [],
   "source": [
    "top_cities=df['City'].value_counts().head(10)\n",
    "top_cities"
   ]
  },
  {
   "cell_type": "code",
   "execution_count": null,
   "id": "9b781800",
   "metadata": {},
   "outputs": [],
   "source": [
    "plt.figure(figsize=(12,5))\n",
    "sns.barplot(y=top_cities.index, x=top_cities)\n",
    "plt.title(\"Cities in US reported most accident cases\",size=17,color=\"grey\")\n",
    "plt.xlabel('City')\n",
    "plt.ylabel('No. of cases')\n",
    "\n"
   ]
  },
  {
   "cell_type": "code",
   "execution_count": null,
   "id": "0ce5b548",
   "metadata": {},
   "outputs": [],
   "source": [
    "plt.figure(figsize=(10,6))\n",
    "plt.pie(top_cities,labels=top_cities.index,autopct='%.2f%%')\n",
    "plt.title(\"Cities in US reported most accident cases\",size=17,color=\"grey\")"
   ]
  },
  {
   "cell_type": "markdown",
   "id": "150c84bf",
   "metadata": {},
   "source": [
    ">insight\n",
    ">- Miami had most no of accident cases i.e  106966 "
   ]
  },
  {
   "cell_type": "markdown",
   "id": "7b3b6be4",
   "metadata": {},
   "source": [
    "cities in US which has the least number of accident cases?"
   ]
  },
  {
   "cell_type": "code",
   "execution_count": null,
   "id": "09dd03b7",
   "metadata": {},
   "outputs": [],
   "source": [
    "city_count=df['City'].value_counts()\n",
    "city_min_acc=city_count[city_count<10000]\n",
    "city_min_acc.tail()"
   ]
  },
  {
   "cell_type": "code",
   "execution_count": null,
   "id": "3156b4dc",
   "metadata": {},
   "outputs": [],
   "source": [
    "plt.figure(figsize=(12,5))\n",
    "sns.distplot(city_min_acc)\n",
    "plt.title(\"US cities where accident cases recorded are less than 10,000\",size=17,color=\"grey\")"
   ]
  },
  {
   "cell_type": "markdown",
   "id": "51d18c71",
   "metadata": {},
   "source": [
    "which state has more no of accidents"
   ]
  },
  {
   "cell_type": "code",
   "execution_count": null,
   "id": "8c8d1ff5",
   "metadata": {},
   "outputs": [],
   "source": [
    "acc_in_state_count=df['State'].value_counts()\n",
    "acc_in_state_count"
   ]
  },
  {
   "cell_type": "markdown",
   "id": "05baa4e9",
   "metadata": {},
   "source": [
    "top 10 state of US having max no of accidents"
   ]
  },
  {
   "cell_type": "code",
   "execution_count": null,
   "id": "da2b2559",
   "metadata": {},
   "outputs": [],
   "source": [
    "max_acc_state=acc_in_state_count.head(10)\n",
    "max_acc_state"
   ]
  },
  {
   "cell_type": "code",
   "execution_count": null,
   "id": "add6e673",
   "metadata": {},
   "outputs": [],
   "source": [
    "plt.figure(figsize=(12,5))\n",
    "sns.barplot(y=max_acc_state.index, x=max_acc_state)\n",
    "plt.title(\"States in US reported most accident cases\",size=17,color=\"grey\")\n",
    "plt.xlabel('States')\n",
    "plt.ylabel('No. of cases')\n"
   ]
  },
  {
   "cell_type": "code",
   "execution_count": null,
   "id": "90c02426",
   "metadata": {},
   "outputs": [],
   "source": [
    "plt.figure(figsize=(10,6))\n",
    "plt.pie(max_acc_state,labels=max_acc_state.index,autopct='%.2f%%')\n",
    "plt.title(\"States in US reported most accident cases\",size=17,color=\"grey\")"
   ]
  },
  {
   "cell_type": "markdown",
   "id": "05984895",
   "metadata": {},
   "source": [
    ">insights:\n",
    "- CA had most no of accident cases i.e 795868 "
   ]
  },
  {
   "cell_type": "markdown",
   "id": "53c45186",
   "metadata": {},
   "source": [
    "Which timezone reported the most number of accident cases?"
   ]
  },
  {
   "cell_type": "code",
   "execution_count": null,
   "id": "f9d875ff",
   "metadata": {},
   "outputs": [],
   "source": [
    "timezone_max_acc=df['Timezone'].value_counts()\n",
    "timezone_max_acc"
   ]
  },
  {
   "cell_type": "code",
   "execution_count": null,
   "id": "6e46a1bc",
   "metadata": {},
   "outputs": [],
   "source": [
    "plt.figure(figsize=(12,5))\n",
    "sns.barplot(y=timezone_max_acc.index, x=timezone_max_acc)\n",
    "plt.title(\"Accident cases for different timezones in US\",size=17,color=\"grey\")\n",
    "plt.xlabel('Timezone')\n",
    "plt.ylabel('No. of accidents')"
   ]
  },
  {
   "cell_type": "markdown",
   "id": "882de930",
   "metadata": {},
   "source": [
    "> Insight\n",
    "-US/Eastern timezone region reported the most number of accident cases"
   ]
  },
  {
   "cell_type": "markdown",
   "id": "84949d5f",
   "metadata": {},
   "source": [
    "Which street had most accident in US?"
   ]
  },
  {
   "cell_type": "code",
   "execution_count": null,
   "id": "a38a0250",
   "metadata": {},
   "outputs": [],
   "source": [
    "street_acc_count=df['Street'].value_counts()\n"
   ]
  },
  {
   "cell_type": "code",
   "execution_count": null,
   "id": "d2c23d26",
   "metadata": {},
   "outputs": [],
   "source": [
    "street_max_acc=street_acc_count.head(10)\n",
    "street_max_acc"
   ]
  },
  {
   "cell_type": "code",
   "execution_count": null,
   "id": "77ac1e98",
   "metadata": {},
   "outputs": [],
   "source": [
    "plt.figure(figsize=(12,5))\n",
    "sns.barplot(y=street_max_acc.index, x=street_max_acc)\n",
    "plt.title(\"Top 10 Accident Prone Streets in US \",size=17,color=\"grey\")\n",
    "plt.xlabel('Streets')\n",
    "plt.ylabel('No. of accidents')"
   ]
  },
  {
   "cell_type": "markdown",
   "id": "1f57cb40",
   "metadata": {},
   "source": [
    "> Insight\n",
    "- I-95 N street had max accident cases i.e 39853"
   ]
  },
  {
   "cell_type": "markdown",
   "id": "56a627c1",
   "metadata": {},
   "source": [
    "what time of day most accidents occur?"
   ]
  },
  {
   "cell_type": "code",
   "execution_count": null,
   "id": "2678ec45",
   "metadata": {},
   "outputs": [],
   "source": [
    "df['Start_Time'].value_counts().head()"
   ]
  },
  {
   "cell_type": "code",
   "execution_count": null,
   "id": "a3a72179",
   "metadata": {},
   "outputs": [],
   "source": [
    "df.Start_Time = pd.to_datetime(df.Start_Time)\n",
    "df.Start_Time"
   ]
  },
  {
   "cell_type": "code",
   "execution_count": null,
   "id": "b07f1528",
   "metadata": {},
   "outputs": [],
   "source": [
    "# extract the timestamp col to hours\n",
    "\n",
    "hour =df.Start_Time.dt.hour.value_counts()\n",
    "hour"
   ]
  },
  {
   "cell_type": "code",
   "execution_count": null,
   "id": "5b2ae418",
   "metadata": {},
   "outputs": [],
   "source": [
    "time_max_acc=df.Start_Time.dt.hour.value_counts()\n",
    "time_max_acc"
   ]
  },
  {
   "cell_type": "code",
   "execution_count": null,
   "id": "98bb909c",
   "metadata": {},
   "outputs": [],
   "source": [
    "plt.figure(figsize=(12,5))\n",
    "sns.barplot(y=time_max_acc, x=time_max_acc.index)\n",
    "plt.title(\" time of day most accidents occur in US \",size=17,color=\"grey\")\n",
    "plt.xlabel('Time')\n",
    "plt.ylabel('No. of accidents')"
   ]
  },
  {
   "cell_type": "markdown",
   "id": "1bb8991b",
   "metadata": {},
   "source": [
    "> insight:\n",
    "- Most accident occurs between 2:00PM - 6:00PM\n",
    "- most-deadliest accident hour is 5:00PM\n",
    "- next highest accident occur between 7:00AM - 8:00AM"
   ]
  },
  {
   "cell_type": "markdown",
   "id": "06d75919",
   "metadata": {},
   "source": [
    "In which day of the week most accident occurs?"
   ]
  },
  {
   "cell_type": "code",
   "execution_count": null,
   "id": "6ed1a3a0",
   "metadata": {},
   "outputs": [],
   "source": [
    "weekday_max_acc=df.Start_Time.dt.day_name().value_counts()\n",
    "weekday_max_acc"
   ]
  },
  {
   "cell_type": "code",
   "execution_count": null,
   "id": "8808f741",
   "metadata": {},
   "outputs": [],
   "source": [
    "plt.figure(figsize=(12,5))\n",
    "sns.barplot(y=weekday_max_acc, x=weekday_max_acc.index)\n",
    "plt.title(\" Accident cases for different weekday occur in US \",size=17,color=\"grey\")\n",
    "plt.xlabel('Day')\n",
    "plt.ylabel('No. of accidents')"
   ]
  },
  {
   "cell_type": "markdown",
   "id": "e643ce77",
   "metadata": {},
   "source": [
    "> insight:\n",
    "- friday had the highest no of accident cases i.e  492074.\n",
    "- accident cases are less during weekends i.e satuday and sunday and evenly distributed during business days."
   ]
  },
  {
   "cell_type": "markdown",
   "id": "1da9c777",
   "metadata": {},
   "source": [
    "In which month most accident occurs ?"
   ]
  },
  {
   "cell_type": "code",
   "execution_count": null,
   "id": "680c311f",
   "metadata": {},
   "outputs": [],
   "source": [
    "month_max_acc=df.Start_Time.dt.month_name().value_counts()\n",
    "month_max_acc"
   ]
  },
  {
   "cell_type": "code",
   "execution_count": null,
   "id": "7b767e36",
   "metadata": {},
   "outputs": [],
   "source": [
    "plt.figure(figsize=(12,5))\n",
    "sns.barplot(y=month_max_acc, x=month_max_acc.index)\n",
    "plt.title(\" Accident cases for different Months occur in US \",size=17,color=\"grey\")\n",
    "plt.xlabel('Month')\n",
    "plt.ylabel('No. of accidents')"
   ]
  },
  {
   "cell_type": "markdown",
   "id": "166f1e70",
   "metadata": {},
   "source": [
    "> insight:\n",
    "- Most no of cases are occured during December i.e 473943\n",
    "- at the end of the year the number of accidents is quite high ie during december,november,october had most no of accidents"
   ]
  },
  {
   "cell_type": "markdown",
   "id": "55280477",
   "metadata": {},
   "source": [
    "Which year had the most no of cases?"
   ]
  },
  {
   "cell_type": "code",
   "execution_count": null,
   "id": "60d00e8f",
   "metadata": {},
   "outputs": [],
   "source": [
    "year_max_acc=df.Start_Time.dt.year.value_counts()\n",
    "year_max_acc"
   ]
  },
  {
   "cell_type": "code",
   "execution_count": null,
   "id": "8d743870",
   "metadata": {},
   "outputs": [],
   "source": [
    "plt.figure(figsize=(12,5))\n",
    "sns.lineplot(data=year_max_acc)\n",
    "plt.title(\" Accident cases yearly(2016-2021) occur in US \",size=17,color=\"grey\")\n",
    "plt.xlabel('Year')\n",
    "plt.ylabel('No. of accidents')"
   ]
  },
  {
   "cell_type": "markdown",
   "id": "5abb0215",
   "metadata": {},
   "source": [
    "> insights:\n",
    "- year 2021 had max no of accidents i.e 1511745\n",
    "- trend is increasing exponentially yearly .\n",
    "- sharp rise after year 2020."
   ]
  },
  {
   "cell_type": "markdown",
   "id": "a609b15c",
   "metadata": {},
   "source": [
    "IS there any effect of temperature on accidents?"
   ]
  },
  {
   "cell_type": "code",
   "execution_count": null,
   "id": "bb9410b0",
   "metadata": {},
   "outputs": [],
   "source": [
    "weather_cond=df[\"Temperature(F)\"].value_counts()\n",
    "weather_cond.sort_values().tail(10)\n"
   ]
  },
  {
   "cell_type": "code",
   "execution_count": null,
   "id": "6a8c6df8",
   "metadata": {},
   "outputs": [],
   "source": [
    "plt.figure(figsize=(12,5))\n",
    "plt.title(\" Accident cases reported for different Temperatures\",size=17,color=\"grey\")\n",
    "plt.xlabel('No. of accidents')\n",
    "plt.ylabel('Temperature(F)')\n",
    "sns.scatterplot(y=weather_cond.index, x=weather_cond)"
   ]
  },
  {
   "cell_type": "markdown",
   "id": "4381dfe6",
   "metadata": {},
   "source": [
    "> insight:\n",
    "- maximum no of cases occured between temperature range: 50-80 F."
   ]
  },
  {
   "cell_type": "markdown",
   "id": "8855548b",
   "metadata": {},
   "source": [
    "IS there any effect of humidity on accidents?"
   ]
  },
  {
   "cell_type": "code",
   "execution_count": null,
   "id": "1fde43b9",
   "metadata": {},
   "outputs": [],
   "source": [
    "\n",
    "humidity_effect=df[\"Humidity(%)\"].value_counts()\n",
    "humidity_effect.sort_values().tail()"
   ]
  },
  {
   "cell_type": "code",
   "execution_count": null,
   "id": "07349fc5",
   "metadata": {},
   "outputs": [],
   "source": [
    "plt.figure(figsize=(12,5))\n",
    "plt.title(\" Accident cases reported for different humidity \",size=17,color=\"grey\")\n",
    "plt.xlabel('No. of accidents')\n",
    "plt.ylabel('Humidity(%) ')\n",
    "sns.scatterplot(y=humidity_effect.index, x=humidity_effect)"
   ]
  },
  {
   "cell_type": "markdown",
   "id": "f701188b",
   "metadata": {},
   "source": [
    "> insight \n",
    "- maximum no of cases occured between humidity range: 80-100 %.\n",
    "- as the humidity increases the no of cases also increases."
   ]
  },
  {
   "cell_type": "markdown",
   "id": "3780bf7e",
   "metadata": {},
   "source": [
    "Is there any effect of windspeed on accidents?"
   ]
  },
  {
   "cell_type": "code",
   "execution_count": null,
   "id": "82531324",
   "metadata": {},
   "outputs": [],
   "source": [
    "windspeed_effect=df[\"Wind_Speed(mph)\"].value_counts()\n",
    "windspeed_effect.sort_values().tail()"
   ]
  },
  {
   "cell_type": "code",
   "execution_count": null,
   "id": "519de7a3",
   "metadata": {},
   "outputs": [],
   "source": [
    "plt.figure(figsize=(9,4))\n",
    "plt.title(\" Accident cases reported for different Windspeed \",size=17,color=\"grey\")\n",
    "plt.xlabel('No. of accidents')\n",
    "plt.ylabel('Wind_Speed(mph)')\n",
    "sns.scatterplot(y=windspeed_effect.index, x=windspeed_effect)"
   ]
  },
  {
   "cell_type": "markdown",
   "id": "c42b5cc0",
   "metadata": {},
   "source": [
    "> insight:\n",
    "- Maximum cases occured for the wind speed range between 5(mph) - 10(mph)\n",
    "- This is normal wind speed"
   ]
  },
  {
   "cell_type": "markdown",
   "id": "15d5b908",
   "metadata": {},
   "source": [
    "Is there any effect of Pressure on accidents?"
   ]
  },
  {
   "cell_type": "code",
   "execution_count": null,
   "id": "ff2f228f",
   "metadata": {},
   "outputs": [],
   "source": [
    "pressure_effect=df[\"Pressure(in)\"].value_counts()\n",
    "pressure_effect.sort_values().tail()"
   ]
  },
  {
   "cell_type": "code",
   "execution_count": null,
   "id": "d9d52ce0",
   "metadata": {},
   "outputs": [],
   "source": [
    "plt.figure(figsize=(9,4))\n",
    "plt.title(\" Accident cases reported for different pressures \",size=17,color=\"grey\")\n",
    "plt.xlabel('No. of accidents')\n",
    "plt.ylabel('Pressure(in)')\n",
    "sns.scatterplot(y=pressure_effect.index, x=pressure_effect)"
   ]
  },
  {
   "cell_type": "markdown",
   "id": "64c13dbd",
   "metadata": {},
   "source": [
    "> insight\n",
    "- max no of accident occured when the air pressureis between 20(in) to 30(in). \n",
    "- 30(in) had max accidents"
   ]
  },
  {
   "cell_type": "markdown",
   "id": "6eef0759",
   "metadata": {},
   "source": [
    "Is there any effect of Pressure on accidents?"
   ]
  },
  {
   "cell_type": "code",
   "execution_count": null,
   "id": "a9bea353",
   "metadata": {},
   "outputs": [],
   "source": [
    "weather_effect=df[\"Weather_Condition\"].value_counts()\n",
    "weather=weather_effect.head(10)\n",
    "weather\n",
    "\n"
   ]
  },
  {
   "cell_type": "code",
   "execution_count": null,
   "id": "b4d90761",
   "metadata": {},
   "outputs": [],
   "source": [
    "plt.figure(figsize=(12,5))\n",
    "sns.barplot(x=weather, y=weather.index)\n",
    "plt.title(\" Accident cases for different weather conditions occur in US \",size=17,color=\"grey\")\n",
    "plt.xlabel('Weather Condition')\n",
    "plt.ylabel('No. of accidents')"
   ]
  },
  {
   "cell_type": "markdown",
   "id": "27f89202",
   "metadata": {},
   "source": [
    "> insights\n",
    "- Weather condition was Fair in most of the cases hence it is not a major cause behind the accidents."
   ]
  },
  {
   "cell_type": "markdown",
   "id": "0c641b99",
   "metadata": {},
   "source": [
    "#  REPORT"
   ]
  },
  {
   "cell_type": "markdown",
   "id": "658d5338",
   "metadata": {},
   "source": [
    "- This tells that majority of accidents have severity ~2 means not much higher impact on traffic.\n",
    "\n",
    "- in approx 75% cases no precipitation was recorded so this could mean rain is not the reason for accidents.\n",
    "\n",
    "- on an avg accidents happen even while the visibility is ~9 miles so this could mean that visibility is not a reason.\n",
    "\n",
    "- average length of the road extent affected by the accident is 7 miles.\n",
    "\n",
    "- Miami(CITY) had most no of accident cases i.e  106966 \n",
    "\n",
    "- Top 5 Cities which had most number of cases are \n",
    "  - Miami          106966\n",
    "  - Los Angeles     68956\n",
    "  - Orlando         54691\n",
    "  - Dallas          41979\n",
    "  - Houston         39448\n",
    "  \n",
    "- Cities which had least no of accidents are\n",
    "  - Ridgedale                       1\n",
    "  - Sekiu                           1\n",
    "  - Wooldridge                      1\n",
    "  - Bullock                         1\n",
    "  - American Fork-Pleasant Grove    1  \n",
    "  \n",
    "- CA (STATE) had most no of accident cases i.e 795868   \n",
    "\n",
    "- Top 5 States of US which had most no accident cases are:\n",
    "  - CA    795868\n",
    "  - FL    401388\n",
    "  - TX    149037\n",
    "  - OR    126341\n",
    "  - VA    113535\n",
    "  \n",
    "- US/Eastern timezone region reported the most number of accident cases.\n",
    "\n",
    "- I-95 N street had max accident cases i.e 39853\n",
    "  \n",
    "- Most accident occurs between 2:00PM - 6:00PM\n",
    "- most-deadliest accident hour is 5:00PM\n",
    "- next highest accident occur between 7:00AM - 8:00AM\n",
    "\n",
    "- friday had the highest no of accident cases i.e  492074.\n",
    "- accident cases are less during weekends i.e satuday and sunday and evenly distributed during business days.\n",
    "\n",
    "- Most no of cases are occured during December i.e 473943\n",
    "- at the end of the year the number of accidents is quite high ie during december,november,october had most no of accidents\n",
    "\n",
    "- year 2021 had max no of accidents i.e 1511745\n",
    "- trend is increasing exponentially yearly .\n",
    "- sharp rise after year 2020.\n",
    "\n",
    "- maximum no of cases occured between temperature range: 50-80 F.\n",
    "\n",
    "- maximum no of cases occured between humidity range: 80-100 %.\n",
    "- as the humidity increases the no of cases also increases.\n",
    "\n",
    "- Maximum cases occured for the wind speed range between 5(mph) - 10(mph)\n",
    "- This is normal wind speed hence it is not the reason for accidents.\n",
    "\n",
    "- max no of accident occured when the air pressureis between 20(in) to 30(in). \n",
    "- 30(in) had max accidents\n",
    "\n",
    "- Weather condition was Fair in most of the cases hence it is not a major cause behind the accidents.\n"
   ]
  },
  {
   "cell_type": "code",
   "execution_count": null,
   "id": "465f5c54",
   "metadata": {},
   "outputs": [],
   "source": []
  }
 ],
 "metadata": {
  "kernelspec": {
   "display_name": "Python 3 (ipykernel)",
   "language": "python",
   "name": "python3"
  },
  "language_info": {
   "codemirror_mode": {
    "name": "ipython",
    "version": 3
   },
   "file_extension": ".py",
   "mimetype": "text/x-python",
   "name": "python",
   "nbconvert_exporter": "python",
   "pygments_lexer": "ipython3",
   "version": "3.9.12"
  }
 },
 "nbformat": 4,
 "nbformat_minor": 5
}
